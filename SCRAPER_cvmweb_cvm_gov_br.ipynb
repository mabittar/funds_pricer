{
  "nbformat": 4,
  "nbformat_minor": 0,
  "metadata": {
    "colab": {
      "provenance": [],
      "collapsed_sections": [],
      "authorship_tag": "ABX9TyN3zkWRB+YF6Piev/Wpr024",
      "include_colab_link": true
    },
    "kernelspec": {
      "name": "python3",
      "display_name": "Python 3"
    },
    "language_info": {
      "name": "python"
    }
  },
  "cells": [
    {
      "cell_type": "markdown",
      "metadata": {
        "id": "view-in-github",
        "colab_type": "text"
      },
      "source": [
        "<a href=\"https://colab.research.google.com/github/mabittar/funds_pricer/blob/master/SCRAPER_cvmweb_cvm_gov_br.ipynb\" target=\"_parent\"><img src=\"https://colab.research.google.com/assets/colab-badge.svg\" alt=\"Open In Colab\"/></a>"
      ]
    },
    {
      "cell_type": "code",
      "source": [
        "%%capture\n",
        "!pip install selenium\n",
        "!pip install asyncio\n",
        "!apt-get update # to update ubuntu to correctly run apt install\n",
        "!apt install chromium-chromedriver\n",
        "!cp /usr/lib/chromium-browser/chromedriver /usr/bin"
      ],
      "metadata": {
        "id": "1V7S0J-dqBQv"
      },
      "execution_count": 1,
      "outputs": []
    },
    {
      "cell_type": "code",
      "source": [
        "import sys\n",
        "import asyncio\n",
        "sys.path.insert(0,'/usr/lib/chromium-browser/chromedriver')\n",
        "from selenium.webdriver.support.ui import WebDriverWait\n",
        "from selenium.webdriver.common.by import By\n",
        "from selenium.webdriver.support import expected_conditions as EC\n",
        "from typing import Union, List, Optional\n",
        "from datetime import date, datetime\n",
        "from dataclasses import dataclass, field\n",
        "from time import sleep\n",
        "from decimal import Decimal\n",
        "from selenium import webdriver\n",
        "from itertools import chain\n",
        "chrome_options = webdriver.ChromeOptions()\n",
        "chrome_options.add_argument('--headless')\n",
        "chrome_options.add_argument('--no-sandbox')\n",
        "chrome_options.add_argument('--disable-dev-shm-usage')"
      ],
      "metadata": {
        "id": "kznnjOyedOp9"
      },
      "execution_count": 39,
      "outputs": []
    },
    {
      "cell_type": "code",
      "source": [
        "CVM_URL = \"https://cvmweb.cvm.gov.br/SWB/Sistemas/SCW/CPublica/CConsolFdo/ResultBuscaParticFdo.aspx?CNPJNome=\"\n",
        "FUND_DETAIL_URL = \"https://cvmweb.cvm.gov.br/SWB/Sistemas/SCW/CPublica/InfDiario/CPublicaInfDiario.aspx?PK_PARTIC=132922&SemFrame=\" # Atenção ao pk_partic"
      ],
      "metadata": {
        "id": "lZI2JKjxbZzF"
      },
      "execution_count": 16,
      "outputs": []
    },
    {
      "cell_type": "code",
      "source": [
        "@dataclass(order=True)\n",
        "class TimeSeries:\n",
        "  sort_index: datetime = field(init=False, repr=False)\n",
        "  timestamp: datetime\n",
        "  value: Decimal\n",
        "  net_worth_str: str = field(repr=False)\n",
        "  net_worth: float = field(init=False)\n",
        "  owners: int\n",
        "\n",
        "  def __post_init__(self):\n",
        "        s = self.net_worth_str.replace('.','').replace(',','.')\n",
        "        parsed_num = float(s)\n",
        "        self.net_worth = parsed_num\n",
        "        self.sort_index = self.timestamp\n",
        "\n",
        "@dataclass\n",
        "class FundTS:\n",
        "  doc_number: str\n",
        "  fund_pk: Optional[str] = None\n",
        "  name: Optional[str] = None\n",
        "  released_on: Optional[date] = None\n",
        "  ts: Optional[List[TimeSeries]] = None"
      ],
      "metadata": {
        "id": "PAhne3GM-i_Z"
      },
      "execution_count": 17,
      "outputs": []
    },
    {
      "cell_type": "code",
      "source": [
        "def filter_limit_date(available_date_list: list, from_date: Union[date, None] = None, end_date: Union[date, None] = None) -> List[list]:\n",
        "  available_date_datetime = [(index, date_str) for index, date_str in enumerate(available_date_list)]\n",
        "  if from_date is not None:\n",
        "    available_date_datetime = [(index, date_str) for index, date_str in available_date_datetime if datetime.strptime(f'01/{date_str}', \"%d/%m/%Y\").date() >= from_date ]\n",
        "  if end_date is not None:\n",
        "    available_date_datetime = [(index, date_str) for index, date_str in available_date_datetime if datetime.strptime(f'01/{date_str}', \"%d/%m/%Y\").date() <= end_date ]\n",
        "  return available_date_datetime\n",
        "\n",
        "\n",
        "date_list = ['10/2022', '09/2022', '08/2022', '07/2022', '06/2022']\n",
        "start_date = datetime(year=2022, month=7,day=1).date()\n",
        "end_date = datetime(year=2022, month=9,day=1).date()\n",
        "\n",
        "print(filter_limit_date(date_list,start_date, end_date ))"
      ],
      "metadata": {
        "colab": {
          "base_uri": "https://localhost:8080/"
        },
        "id": "T3l8iuXqhpbn",
        "outputId": "523306e1-4250-444d-d2e7-e4e42acf92ff"
      },
      "execution_count": 18,
      "outputs": [
        {
          "output_type": "stream",
          "name": "stdout",
          "text": [
            "[(1, '09/2022'), (2, '08/2022'), (3, '07/2022')]\n"
          ]
        }
      ]
    },
    {
      "cell_type": "code",
      "source": [
        "async def get_fund_pk(url_str: str) -> str:\n",
        "  find_str = \"?PK_PARTIC=\"\n",
        "  pk_postion = url_str.find(find_str)\n",
        "  url_str = url_str[pk_postion + len(find_str):].split(\"&\")[0]\n",
        "  return url_str"
      ],
      "metadata": {
        "id": "O75MsRWL9_PS"
      },
      "execution_count": 19,
      "outputs": []
    },
    {
      "cell_type": "code",
      "source": [
        "async def parse_data(wd, i, month_year):\n",
        "  print(\"Getting results for %s\" % month_year)\n",
        "  i += 1\n",
        "  wd.find_element(By.XPATH, f\"//*[@id='ddComptc']/option[{i}]\").click()\n",
        "  #this will click the option which index is defined by positionn\n",
        "  await asyncio.sleep(3)\n",
        "  WebDriverWait(wd, 20).until(EC.presence_of_element_located((By.XPATH, '//*[@id=\"dgDocDiario\"]')))\n",
        "  rows = wd.find_elements(By.XPATH, '//*[@id=\"dgDocDiario\"]/tbody/tr')\n",
        "  for index, row in enumerate(rows[1:]):\n",
        "    daily_data = [field.replace(\" \", \"\") for field in row.text.split(\" \")]\n",
        "    value = daily_data[1]\n",
        "    if value != \"\":\n",
        "      try:\n",
        "        date_field = daily_data[0]\n",
        "        net_worth = daily_data[4]\n",
        "        owner_number = daily_data[6]\n",
        "        datetime_stamp =  datetime.strptime(f'{date_field}/{month_year}', \"%d/%m/%Y\")\n",
        "        ts = TimeSeries(datetime_stamp, Decimal(value.replace(\",\",\".\")), net_worth, int(owner_number))\n",
        "        return ts\n",
        "      except ValueError as e:\n",
        "        print(e)\n",
        "        print(date_field, month_year)"
      ],
      "metadata": {
        "id": "0PM-A2LJLh7I"
      },
      "execution_count": 42,
      "outputs": []
    },
    {
      "cell_type": "code",
      "source": [
        "def str_2_date(str_date):\n",
        "  return datetime.strptime(f'01/{str_date}', \"%d/%m/%Y\").date()"
      ],
      "metadata": {
        "id": "Q5kKqob_g57G"
      },
      "execution_count": 23,
      "outputs": []
    },
    {
      "cell_type": "code",
      "source": [
        "async def parse_table(wd: webdriver, fund_daily_link:str, from_date: Union[date, str] = None, end_date: Union[date, str] = None ) -> List[list]:\n",
        "    wd.get(fund_daily_link)\n",
        "    table = wd.find_element(By.ID, 'TABLE1')\n",
        "    selectors = wd.find_element(By.XPATH,'//*[@id=\"ddComptc\"]')\n",
        "    selectors_list = selectors.text.split(\"\\n\")\n",
        "    selectors_list = [i.replace(' ', \"\") for i in selectors_list[:-1]] # lembrar excluiur -1 pois é vazio ou validar o se o campo pode ser lido como mm/YYYY\n",
        "    selectors_filtered = filter_limit_date(selectors_list, from_date, end_date)\n",
        "    select = wd.find_element(By.XPATH, '//*[@id=\"ddComptc\"]')\n",
        "    wd.execute_script(\"showDropdown = function (element) {var event; event = document.createEvent('MouseEvents'); event.initMouseEvent('mousedown', true, true, window); element.dispatchEvent(event); }; showDropdown(arguments[0]);\",select)\n",
        "    # open dropdown options\n",
        "    ts_list = []\n",
        "    loop = asyncio.get_event_loop()\n",
        "    async with asyncio.Semaphore(10):\n",
        "      for i, month_year in selectors_filtered:\n",
        "        ts_list.append(\n",
        "          asyncio.create_task(parse_data(wd, i, month_year))\n",
        "      )\n",
        "    await asyncio.gather(*ts_list)\n",
        "    return ts_list"
      ],
      "metadata": {
        "id": "YFbU2GKpClbE"
      },
      "execution_count": 59,
      "outputs": []
    },
    {
      "cell_type": "code",
      "source": [
        "async def get_fund_data(document_number: str, from_date: Union[date, None] = None, end_date: Union[date, None] = None) -> FundTS:\n",
        "  if from_date is not None:\n",
        "    from_date = from_date if isinstance(from_date, date) else str_2_date(from_date)\n",
        "  if end_date is not None:\n",
        "    end_date = end_date if isinstance(end_date, date) else str_2_date(end_date)\n",
        "  # Detalhes do fundo\n",
        "  # TODO: validar CNPJ\n",
        "  fund_ts = FundTS(doc_number=document_number)\n",
        "  with webdriver.Chrome('chromedriver',options=chrome_options) as wd:\n",
        "    wd.get(CVM_URL + document_number)  # url = CVM + CNPJ\n",
        "    WebDriverWait(wd, 20).until(EC.element_to_be_clickable((By.CLASS_NAME, 'HRefPreto')))\n",
        "    wd.execute_script(\"__doPostBack('ddlFundos$_ctl0$lnkbtn1','')\")\n",
        "    pk_url = wd.current_url\n",
        "    fund_ts.fund_pk = await get_fund_pk(pk_url)\n",
        "    fund_name_elem = wd.find_element(By.XPATH, '//*[@id=\"lbNmDenomSocial\"]')\n",
        "    fund_ts.name = fund_name_elem.text\n",
        "    start_at = wd.find_element(By.XPATH, '//*[@id=\"lbInfAdc1\"]')\n",
        "    fund_ts.released_on = datetime.strptime(start_at.text, '%d/%m/%Y').date()\n",
        "    # Lâmina de cotas diárias\n",
        "    fund_daily = wd.find_element(By.XPATH, '//*[@id=\"Hyperlink2\"]')\n",
        "    fund_daily_link = fund_daily.get_attribute('href')\n",
        "    # parser da tabela\n",
        "    result: list = await parse_table(wd, fund_daily_link, from_date, end_date)\n",
        "    time_series = [ts.result() for ts in result]\n",
        "    fund_ts.ts = sorted(time_series)\n",
        "  return fund_ts"
      ],
      "metadata": {
        "id": "I5yREWA08wzF"
      },
      "execution_count": 61,
      "outputs": []
    },
    {
      "cell_type": "code",
      "source": [
        "from time import perf_counter\n",
        "async def main():\n",
        "    return await asyncio.gather(get_fund_data(\"18993924000100\", \"01/2019\"))\n",
        "\n",
        "s = perf_counter()\n",
        "result = await main()\n",
        "elapsed = perf_counter() - s\n",
        "print(f\"Script executed in {elapsed:0.2f} seconds.\")"
      ],
      "metadata": {
        "colab": {
          "base_uri": "https://localhost:8080/"
        },
        "id": "WgXjO1mpEymd",
        "outputId": "405f3c00-f9cb-4800-8285-082fe298cd66"
      },
      "execution_count": 62,
      "outputs": [
        {
          "output_type": "stream",
          "name": "stdout",
          "text": [
            "Getting results for 10/2022\n",
            "Getting results for 09/2022\n",
            "Getting results for 08/2022\n",
            "Getting results for 07/2022\n",
            "Getting results for 06/2022\n",
            "Getting results for 05/2022\n",
            "Getting results for 04/2022\n",
            "Getting results for 03/2022\n",
            "Getting results for 02/2022\n",
            "Getting results for 01/2022\n",
            "Getting results for 12/2021\n",
            "Getting results for 11/2021\n",
            "Getting results for 10/2021\n",
            "Getting results for 09/2021\n",
            "Getting results for 08/2021\n",
            "Getting results for 07/2021\n",
            "Getting results for 06/2021\n",
            "Getting results for 05/2021\n",
            "Getting results for 04/2021\n",
            "Getting results for 03/2021\n",
            "Getting results for 02/2021\n",
            "Getting results for 01/2021\n",
            "Getting results for 12/2020\n",
            "Getting results for 11/2020\n",
            "Getting results for 10/2020\n",
            "Getting results for 09/2020\n",
            "Getting results for 08/2020\n",
            "Getting results for 07/2020\n",
            "Getting results for 06/2020\n",
            "Getting results for 05/2020\n",
            "Getting results for 04/2020\n",
            "Getting results for 03/2020\n",
            "Getting results for 02/2020\n",
            "Getting results for 01/2020\n",
            "Getting results for 12/2019\n",
            "Getting results for 11/2019\n",
            "Getting results for 10/2019\n",
            "Getting results for 09/2019\n",
            "Getting results for 08/2019\n",
            "Getting results for 07/2019\n",
            "Getting results for 06/2019\n",
            "Getting results for 05/2019\n",
            "Getting results for 04/2019\n",
            "Getting results for 03/2019\n",
            "Getting results for 02/2019\n",
            "Getting results for 01/2019\n",
            "Script executed in 40.57 seconds.\n"
          ]
        }
      ]
    },
    {
      "cell_type": "code",
      "source": [
        "result[0]"
      ],
      "metadata": {
        "id": "8Rx8SmWSSJ28",
        "colab": {
          "base_uri": "https://localhost:8080/"
        },
        "outputId": "630a5396-af8c-4bb0-95a2-ab95585f6a4d"
      },
      "execution_count": 63,
      "outputs": [
        {
          "output_type": "execute_result",
          "data": {
            "text/plain": [
              "FundTS(doc_number='18993924000100', fund_pk='132922', name='XP INVESTOR LONG BIASED FUNDO DE INVESTIMENTO EM COTAS DE FUNDOS DE INVESTIMENTO MULTIMERCADO', released_on=datetime.date(2013, 10, 14), ts=[TimeSeries(timestamp=datetime.datetime(2019, 1, 2, 0, 0), value=Decimal('3.38676374'), net_worth=147896232.09, owners=1982), TimeSeries(timestamp=datetime.datetime(2019, 2, 2, 0, 0), value=Decimal('3.38676374'), net_worth=147896232.09, owners=1982), TimeSeries(timestamp=datetime.datetime(2019, 3, 2, 0, 0), value=Decimal('3.38676374'), net_worth=147896232.09, owners=1982), TimeSeries(timestamp=datetime.datetime(2019, 4, 2, 0, 0), value=Decimal('3.38676374'), net_worth=147896232.09, owners=1982), TimeSeries(timestamp=datetime.datetime(2019, 5, 2, 0, 0), value=Decimal('3.38676374'), net_worth=147896232.09, owners=1982), TimeSeries(timestamp=datetime.datetime(2019, 6, 2, 0, 0), value=Decimal('3.38676374'), net_worth=147896232.09, owners=1982), TimeSeries(timestamp=datetime.datetime(2019, 7, 2, 0, 0), value=Decimal('3.38676374'), net_worth=147896232.09, owners=1982), TimeSeries(timestamp=datetime.datetime(2019, 8, 2, 0, 0), value=Decimal('3.38676374'), net_worth=147896232.09, owners=1982), TimeSeries(timestamp=datetime.datetime(2019, 9, 2, 0, 0), value=Decimal('3.38676374'), net_worth=147896232.09, owners=1982), TimeSeries(timestamp=datetime.datetime(2019, 10, 2, 0, 0), value=Decimal('3.38676374'), net_worth=147896232.09, owners=1982), TimeSeries(timestamp=datetime.datetime(2019, 11, 2, 0, 0), value=Decimal('3.38676374'), net_worth=147896232.09, owners=1982), TimeSeries(timestamp=datetime.datetime(2019, 12, 2, 0, 0), value=Decimal('3.38676374'), net_worth=147896232.09, owners=1982), TimeSeries(timestamp=datetime.datetime(2020, 1, 2, 0, 0), value=Decimal('3.38676374'), net_worth=147896232.09, owners=1982), TimeSeries(timestamp=datetime.datetime(2020, 2, 2, 0, 0), value=Decimal('3.38676374'), net_worth=147896232.09, owners=1982), TimeSeries(timestamp=datetime.datetime(2020, 3, 2, 0, 0), value=Decimal('3.38676374'), net_worth=147896232.09, owners=1982), TimeSeries(timestamp=datetime.datetime(2020, 4, 2, 0, 0), value=Decimal('3.38676374'), net_worth=147896232.09, owners=1982), TimeSeries(timestamp=datetime.datetime(2020, 5, 2, 0, 0), value=Decimal('3.38676374'), net_worth=147896232.09, owners=1982), TimeSeries(timestamp=datetime.datetime(2020, 6, 2, 0, 0), value=Decimal('3.38676374'), net_worth=147896232.09, owners=1982), TimeSeries(timestamp=datetime.datetime(2020, 7, 2, 0, 0), value=Decimal('3.38676374'), net_worth=147896232.09, owners=1982), TimeSeries(timestamp=datetime.datetime(2020, 8, 2, 0, 0), value=Decimal('3.38676374'), net_worth=147896232.09, owners=1982), TimeSeries(timestamp=datetime.datetime(2020, 9, 2, 0, 0), value=Decimal('3.38676374'), net_worth=147896232.09, owners=1982), TimeSeries(timestamp=datetime.datetime(2020, 10, 2, 0, 0), value=Decimal('3.38676374'), net_worth=147896232.09, owners=1982), TimeSeries(timestamp=datetime.datetime(2020, 11, 2, 0, 0), value=Decimal('3.38676374'), net_worth=147896232.09, owners=1982), TimeSeries(timestamp=datetime.datetime(2020, 12, 2, 0, 0), value=Decimal('3.38676374'), net_worth=147896232.09, owners=1982), TimeSeries(timestamp=datetime.datetime(2021, 1, 2, 0, 0), value=Decimal('3.38676374'), net_worth=147896232.09, owners=1982), TimeSeries(timestamp=datetime.datetime(2021, 2, 2, 0, 0), value=Decimal('3.38676374'), net_worth=147896232.09, owners=1982), TimeSeries(timestamp=datetime.datetime(2021, 3, 2, 0, 0), value=Decimal('3.38676374'), net_worth=147896232.09, owners=1982), TimeSeries(timestamp=datetime.datetime(2021, 4, 2, 0, 0), value=Decimal('3.38676374'), net_worth=147896232.09, owners=1982), TimeSeries(timestamp=datetime.datetime(2021, 5, 2, 0, 0), value=Decimal('3.38676374'), net_worth=147896232.09, owners=1982), TimeSeries(timestamp=datetime.datetime(2021, 6, 2, 0, 0), value=Decimal('3.38676374'), net_worth=147896232.09, owners=1982), TimeSeries(timestamp=datetime.datetime(2021, 7, 2, 0, 0), value=Decimal('3.38676374'), net_worth=147896232.09, owners=1982), TimeSeries(timestamp=datetime.datetime(2021, 8, 2, 0, 0), value=Decimal('3.38676374'), net_worth=147896232.09, owners=1982), TimeSeries(timestamp=datetime.datetime(2021, 9, 2, 0, 0), value=Decimal('3.38676374'), net_worth=147896232.09, owners=1982), TimeSeries(timestamp=datetime.datetime(2021, 10, 2, 0, 0), value=Decimal('3.38676374'), net_worth=147896232.09, owners=1982), TimeSeries(timestamp=datetime.datetime(2021, 11, 2, 0, 0), value=Decimal('3.38676374'), net_worth=147896232.09, owners=1982), TimeSeries(timestamp=datetime.datetime(2021, 12, 2, 0, 0), value=Decimal('3.38676374'), net_worth=147896232.09, owners=1982), TimeSeries(timestamp=datetime.datetime(2022, 1, 2, 0, 0), value=Decimal('3.38676374'), net_worth=147896232.09, owners=1982), TimeSeries(timestamp=datetime.datetime(2022, 2, 2, 0, 0), value=Decimal('3.38676374'), net_worth=147896232.09, owners=1982), TimeSeries(timestamp=datetime.datetime(2022, 3, 2, 0, 0), value=Decimal('3.38676374'), net_worth=147896232.09, owners=1982), TimeSeries(timestamp=datetime.datetime(2022, 4, 2, 0, 0), value=Decimal('3.38676374'), net_worth=147896232.09, owners=1982), TimeSeries(timestamp=datetime.datetime(2022, 5, 2, 0, 0), value=Decimal('3.38676374'), net_worth=147896232.09, owners=1982), TimeSeries(timestamp=datetime.datetime(2022, 6, 2, 0, 0), value=Decimal('3.38676374'), net_worth=147896232.09, owners=1982), TimeSeries(timestamp=datetime.datetime(2022, 7, 2, 0, 0), value=Decimal('3.38676374'), net_worth=147896232.09, owners=1982), TimeSeries(timestamp=datetime.datetime(2022, 8, 2, 0, 0), value=Decimal('3.38676374'), net_worth=147896232.09, owners=1982), TimeSeries(timestamp=datetime.datetime(2022, 9, 2, 0, 0), value=Decimal('3.38676374'), net_worth=147896232.09, owners=1982), TimeSeries(timestamp=datetime.datetime(2022, 10, 2, 0, 0), value=Decimal('3.38676374'), net_worth=147896232.09, owners=1982)])"
            ]
          },
          "metadata": {},
          "execution_count": 63
        }
      ]
    }
  ]
}