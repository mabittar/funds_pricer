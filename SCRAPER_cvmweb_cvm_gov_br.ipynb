{
  "nbformat": 4,
  "nbformat_minor": 0,
  "metadata": {
    "colab": {
      "provenance": [],
      "collapsed_sections": [],
      "authorship_tag": "ABX9TyN4SZDo+j1kdrGMdzkaiGpI",
      "include_colab_link": true
    },
    "kernelspec": {
      "name": "python3",
      "display_name": "Python 3"
    },
    "language_info": {
      "name": "python"
    }
  },
  "cells": [
    {
      "cell_type": "markdown",
      "metadata": {
        "id": "view-in-github",
        "colab_type": "text"
      },
      "source": [
        "<a href=\"https://colab.research.google.com/github/mabittar/funds_pricer/blob/master/SCRAPER_cvmweb_cvm_gov_br.ipynb\" target=\"_parent\"><img src=\"https://colab.research.google.com/assets/colab-badge.svg\" alt=\"Open In Colab\"/></a>"
      ]
    },
    {
      "cell_type": "code",
      "source": [
        "%%capture\n",
        "!pip install selenium\n",
        "!pip install asyncio\n",
        "!apt-get update # to update ubuntu to correctly run apt install\n",
        "!apt install chromium-chromedriver\n",
        "!cp /usr/lib/chromium-browser/chromedriver /usr/bin"
      ],
      "metadata": {
        "id": "1V7S0J-dqBQv"
      },
      "execution_count": 1,
      "outputs": []
    },
    {
      "cell_type": "code",
      "source": [
        "import sys\n",
        "import asyncio\n",
        "sys.path.insert(0,'/usr/lib/chromium-browser/chromedriver')\n",
        "from selenium.webdriver.support.ui import WebDriverWait\n",
        "from selenium.webdriver.common.by import By\n",
        "from selenium.webdriver.support import expected_conditions as EC\n",
        "from typing import Union, List, Optional\n",
        "from datetime import date, datetime\n",
        "from dataclasses import dataclass, field\n",
        "from time import sleep\n",
        "from decimal import Decimal\n",
        "from selenium import webdriver\n",
        "from itertools import chain\n",
        "chrome_options = webdriver.ChromeOptions()\n",
        "chrome_options.add_argument('--headless')\n",
        "chrome_options.add_argument('--no-sandbox')\n",
        "chrome_options.add_argument('--disable-dev-shm-usage')"
      ],
      "metadata": {
        "id": "kznnjOyedOp9"
      },
      "execution_count": 39,
      "outputs": []
    },
    {
      "cell_type": "code",
      "source": [
        "CVM_URL = \"https://cvmweb.cvm.gov.br/SWB/Sistemas/SCW/CPublica/CConsolFdo/ResultBuscaParticFdo.aspx?CNPJNome=\"\n",
        "FUND_DETAIL_URL = \"https://cvmweb.cvm.gov.br/SWB/Sistemas/SCW/CPublica/InfDiario/CPublicaInfDiario.aspx?PK_PARTIC=132922&SemFrame=\" # Atenção ao pk_partic"
      ],
      "metadata": {
        "id": "lZI2JKjxbZzF"
      },
      "execution_count": 16,
      "outputs": []
    },
    {
      "cell_type": "code",
      "source": [
        "@dataclass(order=True)\n",
        "class TimeSeries:\n",
        "  sort_index: datetime = field(init=False, repr=False)\n",
        "  timestamp: datetime\n",
        "  value: Decimal\n",
        "  net_worth_str: str = field(repr=False)\n",
        "  net_worth: float = field(init=False)\n",
        "  owners: int\n",
        "\n",
        "  def __post_init__(self):\n",
        "        s = self.net_worth_str.replace('.','').replace(',','.')\n",
        "        parsed_num = float(s)\n",
        "        self.net_worth = parsed_num\n",
        "        self.sort_index = self.timestamp\n",
        "\n",
        "@dataclass\n",
        "class FundTS:\n",
        "  doc_number: str\n",
        "  fund_pk: Optional[str] = None\n",
        "  name: Optional[str] = None\n",
        "  released_on: Optional[date] = None\n",
        "  ts: Optional[List[TimeSeries]] = None"
      ],
      "metadata": {
        "id": "PAhne3GM-i_Z"
      },
      "execution_count": 17,
      "outputs": []
    },
    {
      "cell_type": "code",
      "source": [
        "def filter_limit_date(available_date_list: list, from_date: Union[date, None] = None, end_date: Union[date, None] = None) -> List[list]:\n",
        "  available_date_datetime = [(index, date_str) for index, date_str in enumerate(available_date_list)]\n",
        "  if from_date is not None:\n",
        "    available_date_datetime = [(index, date_str) for index, date_str in available_date_datetime if datetime.strptime(f'01/{date_str}', \"%d/%m/%Y\").date() >= from_date ]\n",
        "  if end_date is not None:\n",
        "    available_date_datetime = [(index, date_str) for index, date_str in available_date_datetime if datetime.strptime(f'01/{date_str}', \"%d/%m/%Y\").date() <= end_date ]\n",
        "  return available_date_datetime\n",
        "\n",
        "\n",
        "date_list = ['10/2022', '09/2022', '08/2022', '07/2022', '06/2022']\n",
        "start_date = datetime(year=2022, month=7,day=1).date()\n",
        "end_date = datetime(year=2022, month=9,day=1).date()\n",
        "\n",
        "print(filter_limit_date(date_list,start_date, end_date ))"
      ],
      "metadata": {
        "colab": {
          "base_uri": "https://localhost:8080/"
        },
        "id": "T3l8iuXqhpbn",
        "outputId": "523306e1-4250-444d-d2e7-e4e42acf92ff"
      },
      "execution_count": 18,
      "outputs": [
        {
          "output_type": "stream",
          "name": "stdout",
          "text": [
            "[(1, '09/2022'), (2, '08/2022'), (3, '07/2022')]\n"
          ]
        }
      ]
    },
    {
      "cell_type": "code",
      "source": [
        "async def get_fund_pk(url_str: str) -> str:\n",
        "  find_str = \"?PK_PARTIC=\"\n",
        "  pk_postion = url_str.find(find_str)\n",
        "  url_str = url_str[pk_postion + len(find_str):].split(\"&\")[0]\n",
        "  return url_str"
      ],
      "metadata": {
        "id": "O75MsRWL9_PS"
      },
      "execution_count": 19,
      "outputs": []
    },
    {
      "cell_type": "code",
      "source": [
        "async def parse_data(wd, i, month_year):\n",
        "  print(\"Getting results for %s\" % month_year)\n",
        "  i += 1\n",
        "  wd.find_element(By.XPATH, f\"//*[@id='ddComptc']/option[{i}]\").click()\n",
        "  #this will click the option which index is defined by position\n",
        "  WebDriverWait(wd, 20).until(EC.presence_of_element_located((By.XPATH, '//*[@id=\"dgDocDiario\"]')))\n",
        "  rows = wd.find_elements(By.XPATH, '//*[@id=\"dgDocDiario\"]/tbody/tr')\n",
        "  for index, row in enumerate(rows[1:]):\n",
        "    daily_data = [field.replace(\" \", \"\") for field in row.text.split(\" \")]\n",
        "    value = daily_data[1]\n",
        "    if value != \"\":\n",
        "      try:\n",
        "        date_field = daily_data[0]\n",
        "        net_worth = daily_data[4]\n",
        "        owner_number = daily_data[6]\n",
        "        datetime_stamp =  datetime.strptime(f'{date_field}/{month_year}', \"%d/%m/%Y\")\n",
        "        ts = TimeSeries(datetime_stamp, Decimal(value.replace(\",\",\".\")), net_worth, int(owner_number))\n",
        "        return ts\n",
        "      except ValueError as e:\n",
        "        print(e)\n",
        "        print(date_field, month_year)"
      ],
      "metadata": {
        "id": "0PM-A2LJLh7I"
      },
      "execution_count": 103,
      "outputs": []
    },
    {
      "cell_type": "code",
      "source": [
        "def str_2_date(str_date):\n",
        "  return datetime.strptime(f'01/{str_date}', \"%d/%m/%Y\").date()"
      ],
      "metadata": {
        "id": "Q5kKqob_g57G"
      },
      "execution_count": 23,
      "outputs": []
    },
    {
      "cell_type": "code",
      "source": [
        "async def parse_table(wd: webdriver, fund_daily_link:str, from_date: Union[date, str] = None, end_date: Union[date, str] = None ) -> List[list]:\n",
        "    wd.get(fund_daily_link)\n",
        "    table = wd.find_element(By.ID, 'TABLE1')\n",
        "    selectors = wd.find_element(By.XPATH,'//*[@id=\"ddComptc\"]')\n",
        "    selectors_list = selectors.text.split(\"\\n\")\n",
        "    selectors_list = [i.replace(' ', \"\") for i in selectors_list[:-1]] # lembrar excluiur -1 pois é vazio ou validar o se o campo pode ser lido como mm/YYYY\n",
        "    selectors_filtered = filter_limit_date(selectors_list, from_date, end_date)\n",
        "    select = wd.find_element(By.XPATH, '//*[@id=\"ddComptc\"]')\n",
        "    wd.execute_script(\"showDropdown = function (element) {var event; event = document.createEvent('MouseEvents'); event.initMouseEvent('mousedown', true, true, window); element.dispatchEvent(event); }; showDropdown(arguments[0]);\",select)\n",
        "    # open dropdown options\n",
        "    ts_list = []\n",
        "    async with asyncio.Semaphore(20):\n",
        "      for i, month_year in selectors_filtered:\n",
        "        ts_list.append(\n",
        "          asyncio.create_task(\n",
        "              parse_data(wd, i, month_year))\n",
        "      )\n",
        "      await asyncio.gather(*ts_list)\n",
        "    return [ts.result() for ts in ts_list]"
      ],
      "metadata": {
        "id": "YFbU2GKpClbE"
      },
      "execution_count": 110,
      "outputs": []
    },
    {
      "cell_type": "code",
      "source": [
        "async def get_fund_data(document_number: str, from_date: Union[date, None] = None, end_date: Union[date, None] = None) -> FundTS:\n",
        "  if from_date is not None:\n",
        "    from_date = from_date if isinstance(from_date, date) else str_2_date(from_date)\n",
        "  if end_date is not None:\n",
        "    end_date = end_date if isinstance(end_date, date) else str_2_date(end_date)\n",
        "  # Detalhes do fundo\n",
        "  # TODO: validar CNPJ\n",
        "  fund_ts = FundTS(doc_number=document_number)\n",
        "  with webdriver.Chrome('chromedriver',options=chrome_options) as wd:\n",
        "    wd.get(CVM_URL + document_number)  # url = CVM + CNPJ\n",
        "    WebDriverWait(wd, 20).until(EC.element_to_be_clickable((By.CLASS_NAME, 'HRefPreto')))\n",
        "    wd.execute_script(\"__doPostBack('ddlFundos$_ctl0$lnkbtn1','')\")\n",
        "    pk_url = wd.current_url\n",
        "    fund_ts.fund_pk = await get_fund_pk(pk_url)\n",
        "    fund_name_elem = wd.find_element(By.XPATH, '//*[@id=\"lbNmDenomSocial\"]')\n",
        "    fund_ts.name = fund_name_elem.text\n",
        "    start_at = wd.find_element(By.XPATH, '//*[@id=\"lbInfAdc1\"]')\n",
        "    fund_ts.released_on = datetime.strptime(start_at.text, '%d/%m/%Y').date()\n",
        "    # Lâmina de cotas diárias\n",
        "    fund_daily = wd.find_element(By.XPATH, '//*[@id=\"Hyperlink2\"]')\n",
        "    fund_daily_link = fund_daily.get_attribute('href')\n",
        "    # parser da tabela\n",
        "    time_series: list = await parse_table(wd, fund_daily_link, from_date, end_date)\n",
        "    fund_ts.ts = sorted(time_series)\n",
        "  return fund_ts"
      ],
      "metadata": {
        "id": "I5yREWA08wzF"
      },
      "execution_count": 74,
      "outputs": []
    },
    {
      "cell_type": "code",
      "source": [
        "from time import perf_counter\n",
        "async def main():\n",
        "    return await get_fund_data(\"18993924000100\", \"01/2019\")\n",
        "\n",
        "s = perf_counter()\n",
        "result = await main()\n",
        "elapsed = perf_counter() - s\n",
        "print(f\"Script executed in {elapsed:0.2f} seconds.\")"
      ],
      "metadata": {
        "colab": {
          "base_uri": "https://localhost:8080/"
        },
        "id": "WgXjO1mpEymd",
        "outputId": "b2303004-1026-4761-c203-896679f76797"
      },
      "execution_count": 113,
      "outputs": [
        {
          "output_type": "stream",
          "name": "stdout",
          "text": [
            "Getting results for 10/2022\n",
            "Getting results for 09/2022\n",
            "Getting results for 08/2022\n",
            "Getting results for 07/2022\n",
            "Getting results for 06/2022\n",
            "Getting results for 05/2022\n",
            "Getting results for 04/2022\n",
            "Getting results for 03/2022\n",
            "Getting results for 02/2022\n",
            "Getting results for 01/2022\n",
            "Getting results for 12/2021\n",
            "Getting results for 11/2021\n",
            "Getting results for 10/2021\n",
            "Getting results for 09/2021\n",
            "Getting results for 08/2021\n",
            "Getting results for 07/2021\n",
            "Getting results for 06/2021\n",
            "Getting results for 05/2021\n",
            "Getting results for 04/2021\n",
            "Getting results for 03/2021\n",
            "Getting results for 02/2021\n",
            "Getting results for 01/2021\n",
            "Getting results for 12/2020\n",
            "Getting results for 11/2020\n",
            "Getting results for 10/2020\n",
            "Getting results for 09/2020\n",
            "Getting results for 08/2020\n",
            "Getting results for 07/2020\n",
            "Getting results for 06/2020\n",
            "Getting results for 05/2020\n",
            "Getting results for 04/2020\n",
            "Getting results for 03/2020\n",
            "Getting results for 02/2020\n",
            "Getting results for 01/2020\n",
            "Getting results for 12/2019\n",
            "Getting results for 11/2019\n",
            "Getting results for 10/2019\n",
            "Getting results for 09/2019\n",
            "Getting results for 08/2019\n",
            "Getting results for 07/2019\n",
            "Getting results for 06/2019\n",
            "Getting results for 05/2019\n",
            "Getting results for 04/2019\n",
            "Getting results for 03/2019\n",
            "Getting results for 02/2019\n",
            "Getting results for 01/2019\n",
            "Script executed in 118.71 seconds.\n"
          ]
        }
      ]
    },
    {
      "cell_type": "code",
      "source": [
        "result"
      ],
      "metadata": {
        "id": "8Rx8SmWSSJ28",
        "colab": {
          "base_uri": "https://localhost:8080/"
        },
        "outputId": "718e2673-ec7b-4018-d920-691894371d96"
      },
      "execution_count": 115,
      "outputs": [
        {
          "output_type": "execute_result",
          "data": {
            "text/plain": [
              "FundTS(doc_number='18993924000100', fund_pk='132922', name='XP INVESTOR LONG BIASED FUNDO DE INVESTIMENTO EM COTAS DE FUNDOS DE INVESTIMENTO MULTIMERCADO', released_on=datetime.date(2013, 10, 14), ts=[TimeSeries(timestamp=datetime.datetime(2019, 1, 2, 0, 0), value=Decimal('3.38676374'), net_worth=147896232.09, owners=1982), TimeSeries(timestamp=datetime.datetime(2019, 2, 1, 0, 0), value=Decimal('3.58402523'), net_worth=155889256.53, owners=1968), TimeSeries(timestamp=datetime.datetime(2019, 3, 1, 0, 0), value=Decimal('3.50348622'), net_worth=150549754.09, owners=1953), TimeSeries(timestamp=datetime.datetime(2019, 4, 1, 0, 0), value=Decimal('3.47950494'), net_worth=148256639.29, owners=1934), TimeSeries(timestamp=datetime.datetime(2019, 5, 2, 0, 0), value=Decimal('3.53179765'), net_worth=149803910.52, owners=1917), TimeSeries(timestamp=datetime.datetime(2019, 6, 3, 0, 0), value=Decimal('3.61274747'), net_worth=150969069.83, owners=1893), TimeSeries(timestamp=datetime.datetime(2019, 7, 1, 0, 0), value=Decimal('3.72292535'), net_worth=151975676.41, owners=1880), TimeSeries(timestamp=datetime.datetime(2019, 8, 1, 0, 0), value=Decimal('3.79594797'), net_worth=153222676.66, owners=1857), TimeSeries(timestamp=datetime.datetime(2019, 9, 2, 0, 0), value=Decimal('3.81456921'), net_worth=151724894.8, owners=1835), TimeSeries(timestamp=datetime.datetime(2019, 10, 1, 0, 0), value=Decimal('3.83857452'), net_worth=149230397.11, owners=1815), TimeSeries(timestamp=datetime.datetime(2019, 11, 1, 0, 0), value=Decimal('3.92855595'), net_worth=150957714.67, owners=1787), TimeSeries(timestamp=datetime.datetime(2019, 12, 2, 0, 0), value=Decimal('4.02388972'), net_worth=151498977.4, owners=1772), TimeSeries(timestamp=datetime.datetime(2020, 1, 2, 0, 0), value=Decimal('4.39875894'), net_worth=163807219.1, owners=1756), TimeSeries(timestamp=datetime.datetime(2020, 2, 3, 0, 0), value=Decimal('4.52858817'), net_worth=161269342.79, owners=1734), TimeSeries(timestamp=datetime.datetime(2020, 3, 2, 0, 0), value=Decimal('4.25619115'), net_worth=150332945.65, owners=1726), TimeSeries(timestamp=datetime.datetime(2020, 4, 1, 0, 0), value=Decimal('2.26672577'), net_worth=75528652.93, owners=1635), TimeSeries(timestamp=datetime.datetime(2020, 5, 4, 0, 0), value=Decimal('2.65920485'), net_worth=86224440.07, owners=1611), TimeSeries(timestamp=datetime.datetime(2020, 6, 1, 0, 0), value=Decimal('3.06617661'), net_worth=96133690.79, owners=1568), TimeSeries(timestamp=datetime.datetime(2020, 7, 1, 0, 0), value=Decimal('3.22827579'), net_worth=98995964.1, owners=1538), TimeSeries(timestamp=datetime.datetime(2020, 8, 3, 0, 0), value=Decimal('3.55462753'), net_worth=104206029.66, owners=1488), TimeSeries(timestamp=datetime.datetime(2020, 9, 1, 0, 0), value=Decimal('3.57894359'), net_worth=100313546.57, owners=1439), TimeSeries(timestamp=datetime.datetime(2020, 10, 1, 0, 0), value=Decimal('3.24239231'), net_worth=86845647.72, owners=1414), TimeSeries(timestamp=datetime.datetime(2020, 11, 3, 0, 0), value=Decimal('3.21984467'), net_worth=84540840.19, owners=1382), TimeSeries(timestamp=datetime.datetime(2020, 12, 1, 0, 0), value=Decimal('3.5441895'), net_worth=88516111.5, owners=1343), TimeSeries(timestamp=datetime.datetime(2021, 1, 4, 0, 0), value=Decimal('3.6299672'), net_worth=86206361.29, owners=1307), TimeSeries(timestamp=datetime.datetime(2021, 2, 1, 0, 0), value=Decimal('3.61217791'), net_worth=80440701.58, owners=1250), TimeSeries(timestamp=datetime.datetime(2021, 3, 1, 0, 0), value=Decimal('3.51488329'), net_worth=72489030.56, owners=1194), TimeSeries(timestamp=datetime.datetime(2021, 4, 1, 0, 0), value=Decimal('3.47191453'), net_worth=67167431.79, owners=1139), TimeSeries(timestamp=datetime.datetime(2021, 5, 3, 0, 0), value=Decimal('3.5509907'), net_worth=65404579.79, owners=1096), TimeSeries(timestamp=datetime.datetime(2021, 6, 1, 0, 0), value=Decimal('3.79851865'), net_worth=67327462.78, owners=1058), TimeSeries(timestamp=datetime.datetime(2021, 7, 1, 0, 0), value=Decimal('3.95784119'), net_worth=67268463.49, owners=1025), TimeSeries(timestamp=datetime.datetime(2021, 8, 2, 0, 0), value=Decimal('3.76370617'), net_worth=62045258.81, owners=999), TimeSeries(timestamp=datetime.datetime(2021, 9, 1, 0, 0), value=Decimal('3.48090659'), net_worth=55632723.59, owners=963), TimeSeries(timestamp=datetime.datetime(2021, 10, 1, 0, 0), value=Decimal('3.36231571'), net_worth=50220579.93, owners=906), TimeSeries(timestamp=datetime.datetime(2021, 11, 1, 0, 0), value=Decimal('3.0242819'), net_worth=42373115.2, owners=854), TimeSeries(timestamp=datetime.datetime(2021, 12, 1, 0, 0), value=Decimal('2.9961064'), net_worth=39952549.39, owners=824), TimeSeries(timestamp=datetime.datetime(2022, 1, 3, 0, 0), value=Decimal('2.9519173'), net_worth=37767638.02, owners=792), TimeSeries(timestamp=datetime.datetime(2022, 2, 1, 0, 0), value=Decimal('3.20869605'), net_worth=38920704.24, owners=750), TimeSeries(timestamp=datetime.datetime(2022, 3, 2, 0, 0), value=Decimal('3.23664501'), net_worth=37118826.31, owners=714), TimeSeries(timestamp=datetime.datetime(2022, 4, 1, 0, 0), value=Decimal('3.36044474'), net_worth=36393268.36, owners=681), TimeSeries(timestamp=datetime.datetime(2022, 5, 2, 0, 0), value=Decimal('3.28824305'), net_worth=34629833.09, owners=659), TimeSeries(timestamp=datetime.datetime(2022, 6, 1, 0, 0), value=Decimal('3.44516407'), net_worth=35171787.69, owners=635), TimeSeries(timestamp=datetime.datetime(2022, 7, 1, 0, 0), value=Decimal('3.25970297'), net_worth=32376577.58, owners=616), TimeSeries(timestamp=datetime.datetime(2022, 8, 1, 0, 0), value=Decimal('3.44114843'), net_worth=33160317.17, owners=592), TimeSeries(timestamp=datetime.datetime(2022, 9, 1, 0, 0), value=Decimal('3.75564401'), net_worth=34970917.86, owners=577), TimeSeries(timestamp=datetime.datetime(2022, 10, 3, 0, 0), value=Decimal('3.82020871'), net_worth=35012547.25, owners=567)])"
            ]
          },
          "metadata": {},
          "execution_count": 115
        }
      ]
    }
  ]
}